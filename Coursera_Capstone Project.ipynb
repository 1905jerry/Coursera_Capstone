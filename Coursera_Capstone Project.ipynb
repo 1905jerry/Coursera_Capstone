{
    "cells": [
        {
            "metadata": {
                "collapsed": true
            },
            "cell_type": "markdown",
            "source": "This notebook will be used primarily for the Coursera-IBM Data Science Capstone Project.\n"
        },
        {
            "metadata": {},
            "cell_type": "code",
            "source": "import pandas as pd\nimport numpy as np\nprint(\"Hello Capstone Project Course!\")",
            "execution_count": 3,
            "outputs": [
                {
                    "output_type": "stream",
                    "text": "Hello Capstone Project Course!\n",
                    "name": "stdout"
                }
            ]
        },
        {
            "metadata": {},
            "cell_type": "code",
            "source": "#read the data\npd.set_option('display.max_columns', None)\ndf = pd.read_csv(\"http://data-seattlecitygis.opendata.arcgis.com/datasets/5b5c745e0f1f48e7a53acec63a0022ab_0.csv\")\nprint(\"Data read into dataframe!\") ",
            "execution_count": 4,
            "outputs": [
                {
                    "output_type": "stream",
                    "text": "Data read into dataframe!\n",
                    "name": "stdout"
                }
            ]
        },
        {
            "metadata": {},
            "cell_type": "code",
            "source": "# A cursory analysis of the data \ndf.head()",
            "execution_count": 5,
            "outputs": [
                {
                    "output_type": "execute_result",
                    "execution_count": 5,
                    "data": {
                        "text/plain": "            X          Y  OBJECTID  INCKEY  COLDETKEY   REPORTNO     STATUS  \\\n0 -122.320757  47.609408         1  328476     329976    EA08706    Matched   \n1 -122.319561  47.662221         2  328142     329642    EA06882    Matched   \n2 -122.327525  47.604393         3   20700      20700    1181833  Unmatched   \n3 -122.327525  47.708622         4  332126     333626  M16001640  Unmatched   \n4 -122.292120  47.559009         5  328238     329738    3857118  Unmatched   \n\n  ADDRTYPE  INTKEY                                           LOCATION  \\\n0    Block     NaN    BROADWAY BETWEEN E COLUMBIA ST AND BOYLSTON AVE   \n1    Block     NaN     8TH AVE NE BETWEEN NE 45TH E ST AND NE 47TH ST   \n2    Block     NaN               JAMES ST BETWEEN 6TH AVE AND 7TH AVE   \n3    Block     NaN  NE NORTHGATE WAY BETWEEN 1ST AVE NE AND NE NOR...   \n4    Block     NaN  M L KING JR ER WAY S BETWEEN S ANGELINE ST AND...   \n\n  EXCEPTRSNCODE EXCEPTRSNDESC SEVERITYCODE                    SEVERITYDESC  \\\n0                         NaN            1  Property Damage Only Collision   \n1                         NaN            1  Property Damage Only Collision   \n2           NaN           NaN            0                         Unknown   \n3                         NaN            0                         Unknown   \n4                         NaN            0                         Unknown   \n\n  COLLISIONTYPE  PERSONCOUNT  PEDCOUNT  PEDCYLCOUNT  VEHCOUNT  INJURIES  \\\n0     Sideswipe            2         0            0         2         0   \n1    Parked Car            2         0            0         2         0   \n2           NaN            0         0            0         0         0   \n3           NaN            0         0            0         0         0   \n4           NaN            0         0            0         0         0   \n\n   SERIOUSINJURIES  FATALITIES                 INCDATE               INCDTTM  \\\n0                0           0  2020/01/22 00:00:00+00  1/22/2020 3:21:00 PM   \n1                0           0  2020/01/07 00:00:00+00   1/7/2020 8:00:00 AM   \n2                0           0  2004/01/30 00:00:00+00             1/30/2004   \n3                0           0  2016/01/23 00:00:00+00             1/23/2016   \n4                0           0  2020/01/26 00:00:00+00             1/26/2020   \n\n                              JUNCTIONTYPE  SDOT_COLCODE  \\\n0  Mid-Block (not related to intersection)          11.0   \n1  Mid-Block (not related to intersection)          15.0   \n2     Mid-Block (but intersection related)          11.0   \n3  Mid-Block (not related to intersection)          11.0   \n4  Mid-Block (not related to intersection)          28.0   \n\n                                        SDOT_COLDESC INATTENTIONIND UNDERINFL  \\\n0  MOTOR VEHICLE STRUCK MOTOR VEHICLE, FRONT END ...            NaN         N   \n1  MOTOR VEHICLE STRUCK MOTOR VEHICLE, RIGHT SIDE...            NaN         N   \n2  MOTOR VEHICLE STRUCK MOTOR VEHICLE, FRONT END ...            NaN       NaN   \n3  MOTOR VEHICLE STRUCK MOTOR VEHICLE, FRONT END ...            NaN       NaN   \n4      MOTOR VEHICLE RAN OFF ROAD - HIT FIXED OBJECT            NaN       NaN   \n\n   WEATHER ROADCOND                LIGHTCOND PEDROWNOTGRNT  SDOTCOLNUM  \\\n0  Raining      Wet  Dark - Street Lights On           NaN         NaN   \n1    Clear      Dry                 Daylight           NaN         NaN   \n2      NaN      NaN                      NaN           NaN   4030032.0   \n3      NaN      NaN                      NaN           NaN         NaN   \n4      NaN      NaN                      NaN           NaN         NaN   \n\n  SPEEDING ST_COLCODE                                         ST_COLDESC  \\\n0      NaN         11  From same direction - both going straight - bo...   \n1      NaN         32                             One parked--one moving   \n2      NaN        NaN                                                NaN   \n3      NaN                                                           NaN   \n4      NaN                                                           NaN   \n\n   SEGLANEKEY  CROSSWALKKEY HITPARKEDCAR  \n0           0             0            N  \n1           0             0            Y  \n2           0             0            N  \n3           0             0            N  \n4           0             0            N  ",
                        "text/html": "<div>\n<style scoped>\n    .dataframe tbody tr th:only-of-type {\n        vertical-align: middle;\n    }\n\n    .dataframe tbody tr th {\n        vertical-align: top;\n    }\n\n    .dataframe thead th {\n        text-align: right;\n    }\n</style>\n<table border=\"1\" class=\"dataframe\">\n  <thead>\n    <tr style=\"text-align: right;\">\n      <th></th>\n      <th>X</th>\n      <th>Y</th>\n      <th>OBJECTID</th>\n      <th>INCKEY</th>\n      <th>COLDETKEY</th>\n      <th>REPORTNO</th>\n      <th>STATUS</th>\n      <th>ADDRTYPE</th>\n      <th>INTKEY</th>\n      <th>LOCATION</th>\n      <th>EXCEPTRSNCODE</th>\n      <th>EXCEPTRSNDESC</th>\n      <th>SEVERITYCODE</th>\n      <th>SEVERITYDESC</th>\n      <th>COLLISIONTYPE</th>\n      <th>PERSONCOUNT</th>\n      <th>PEDCOUNT</th>\n      <th>PEDCYLCOUNT</th>\n      <th>VEHCOUNT</th>\n      <th>INJURIES</th>\n      <th>SERIOUSINJURIES</th>\n      <th>FATALITIES</th>\n      <th>INCDATE</th>\n      <th>INCDTTM</th>\n      <th>JUNCTIONTYPE</th>\n      <th>SDOT_COLCODE</th>\n      <th>SDOT_COLDESC</th>\n      <th>INATTENTIONIND</th>\n      <th>UNDERINFL</th>\n      <th>WEATHER</th>\n      <th>ROADCOND</th>\n      <th>LIGHTCOND</th>\n      <th>PEDROWNOTGRNT</th>\n      <th>SDOTCOLNUM</th>\n      <th>SPEEDING</th>\n      <th>ST_COLCODE</th>\n      <th>ST_COLDESC</th>\n      <th>SEGLANEKEY</th>\n      <th>CROSSWALKKEY</th>\n      <th>HITPARKEDCAR</th>\n    </tr>\n  </thead>\n  <tbody>\n    <tr>\n      <th>0</th>\n      <td>-122.320757</td>\n      <td>47.609408</td>\n      <td>1</td>\n      <td>328476</td>\n      <td>329976</td>\n      <td>EA08706</td>\n      <td>Matched</td>\n      <td>Block</td>\n      <td>NaN</td>\n      <td>BROADWAY BETWEEN E COLUMBIA ST AND BOYLSTON AVE</td>\n      <td></td>\n      <td>NaN</td>\n      <td>1</td>\n      <td>Property Damage Only Collision</td>\n      <td>Sideswipe</td>\n      <td>2</td>\n      <td>0</td>\n      <td>0</td>\n      <td>2</td>\n      <td>0</td>\n      <td>0</td>\n      <td>0</td>\n      <td>2020/01/22 00:00:00+00</td>\n      <td>1/22/2020 3:21:00 PM</td>\n      <td>Mid-Block (not related to intersection)</td>\n      <td>11.0</td>\n      <td>MOTOR VEHICLE STRUCK MOTOR VEHICLE, FRONT END ...</td>\n      <td>NaN</td>\n      <td>N</td>\n      <td>Raining</td>\n      <td>Wet</td>\n      <td>Dark - Street Lights On</td>\n      <td>NaN</td>\n      <td>NaN</td>\n      <td>NaN</td>\n      <td>11</td>\n      <td>From same direction - both going straight - bo...</td>\n      <td>0</td>\n      <td>0</td>\n      <td>N</td>\n    </tr>\n    <tr>\n      <th>1</th>\n      <td>-122.319561</td>\n      <td>47.662221</td>\n      <td>2</td>\n      <td>328142</td>\n      <td>329642</td>\n      <td>EA06882</td>\n      <td>Matched</td>\n      <td>Block</td>\n      <td>NaN</td>\n      <td>8TH AVE NE BETWEEN NE 45TH E ST AND NE 47TH ST</td>\n      <td></td>\n      <td>NaN</td>\n      <td>1</td>\n      <td>Property Damage Only Collision</td>\n      <td>Parked Car</td>\n      <td>2</td>\n      <td>0</td>\n      <td>0</td>\n      <td>2</td>\n      <td>0</td>\n      <td>0</td>\n      <td>0</td>\n      <td>2020/01/07 00:00:00+00</td>\n      <td>1/7/2020 8:00:00 AM</td>\n      <td>Mid-Block (not related to intersection)</td>\n      <td>15.0</td>\n      <td>MOTOR VEHICLE STRUCK MOTOR VEHICLE, RIGHT SIDE...</td>\n      <td>NaN</td>\n      <td>N</td>\n      <td>Clear</td>\n      <td>Dry</td>\n      <td>Daylight</td>\n      <td>NaN</td>\n      <td>NaN</td>\n      <td>NaN</td>\n      <td>32</td>\n      <td>One parked--one moving</td>\n      <td>0</td>\n      <td>0</td>\n      <td>Y</td>\n    </tr>\n    <tr>\n      <th>2</th>\n      <td>-122.327525</td>\n      <td>47.604393</td>\n      <td>3</td>\n      <td>20700</td>\n      <td>20700</td>\n      <td>1181833</td>\n      <td>Unmatched</td>\n      <td>Block</td>\n      <td>NaN</td>\n      <td>JAMES ST BETWEEN 6TH AVE AND 7TH AVE</td>\n      <td>NaN</td>\n      <td>NaN</td>\n      <td>0</td>\n      <td>Unknown</td>\n      <td>NaN</td>\n      <td>0</td>\n      <td>0</td>\n      <td>0</td>\n      <td>0</td>\n      <td>0</td>\n      <td>0</td>\n      <td>0</td>\n      <td>2004/01/30 00:00:00+00</td>\n      <td>1/30/2004</td>\n      <td>Mid-Block (but intersection related)</td>\n      <td>11.0</td>\n      <td>MOTOR VEHICLE STRUCK MOTOR VEHICLE, FRONT END ...</td>\n      <td>NaN</td>\n      <td>NaN</td>\n      <td>NaN</td>\n      <td>NaN</td>\n      <td>NaN</td>\n      <td>NaN</td>\n      <td>4030032.0</td>\n      <td>NaN</td>\n      <td>NaN</td>\n      <td>NaN</td>\n      <td>0</td>\n      <td>0</td>\n      <td>N</td>\n    </tr>\n    <tr>\n      <th>3</th>\n      <td>-122.327525</td>\n      <td>47.708622</td>\n      <td>4</td>\n      <td>332126</td>\n      <td>333626</td>\n      <td>M16001640</td>\n      <td>Unmatched</td>\n      <td>Block</td>\n      <td>NaN</td>\n      <td>NE NORTHGATE WAY BETWEEN 1ST AVE NE AND NE NOR...</td>\n      <td></td>\n      <td>NaN</td>\n      <td>0</td>\n      <td>Unknown</td>\n      <td>NaN</td>\n      <td>0</td>\n      <td>0</td>\n      <td>0</td>\n      <td>0</td>\n      <td>0</td>\n      <td>0</td>\n      <td>0</td>\n      <td>2016/01/23 00:00:00+00</td>\n      <td>1/23/2016</td>\n      <td>Mid-Block (not related to intersection)</td>\n      <td>11.0</td>\n      <td>MOTOR VEHICLE STRUCK MOTOR VEHICLE, FRONT END ...</td>\n      <td>NaN</td>\n      <td>NaN</td>\n      <td>NaN</td>\n      <td>NaN</td>\n      <td>NaN</td>\n      <td>NaN</td>\n      <td>NaN</td>\n      <td>NaN</td>\n      <td></td>\n      <td>NaN</td>\n      <td>0</td>\n      <td>0</td>\n      <td>N</td>\n    </tr>\n    <tr>\n      <th>4</th>\n      <td>-122.292120</td>\n      <td>47.559009</td>\n      <td>5</td>\n      <td>328238</td>\n      <td>329738</td>\n      <td>3857118</td>\n      <td>Unmatched</td>\n      <td>Block</td>\n      <td>NaN</td>\n      <td>M L KING JR ER WAY S BETWEEN S ANGELINE ST AND...</td>\n      <td></td>\n      <td>NaN</td>\n      <td>0</td>\n      <td>Unknown</td>\n      <td>NaN</td>\n      <td>0</td>\n      <td>0</td>\n      <td>0</td>\n      <td>0</td>\n      <td>0</td>\n      <td>0</td>\n      <td>0</td>\n      <td>2020/01/26 00:00:00+00</td>\n      <td>1/26/2020</td>\n      <td>Mid-Block (not related to intersection)</td>\n      <td>28.0</td>\n      <td>MOTOR VEHICLE RAN OFF ROAD - HIT FIXED OBJECT</td>\n      <td>NaN</td>\n      <td>NaN</td>\n      <td>NaN</td>\n      <td>NaN</td>\n      <td>NaN</td>\n      <td>NaN</td>\n      <td>NaN</td>\n      <td>NaN</td>\n      <td></td>\n      <td>NaN</td>\n      <td>0</td>\n      <td>0</td>\n      <td>N</td>\n    </tr>\n  </tbody>\n</table>\n</div>"
                    },
                    "metadata": {}
                }
            ]
        },
        {
            "metadata": {},
            "cell_type": "code",
            "source": "df.shape",
            "execution_count": 7,
            "outputs": [
                {
                    "output_type": "execute_result",
                    "execution_count": 7,
                    "data": {
                        "text/plain": "(221389, 40)"
                    },
                    "metadata": {}
                }
            ]
        },
        {
            "metadata": {},
            "cell_type": "code",
            "source": "df.columns.values",
            "execution_count": 9,
            "outputs": [
                {
                    "output_type": "execute_result",
                    "execution_count": 9,
                    "data": {
                        "text/plain": "array(['X', 'Y', 'OBJECTID', 'INCKEY', 'COLDETKEY', 'REPORTNO', 'STATUS',\n       'ADDRTYPE', 'INTKEY', 'LOCATION', 'EXCEPTRSNCODE', 'EXCEPTRSNDESC',\n       'SEVERITYCODE', 'SEVERITYDESC', 'COLLISIONTYPE', 'PERSONCOUNT',\n       'PEDCOUNT', 'PEDCYLCOUNT', 'VEHCOUNT', 'INJURIES',\n       'SERIOUSINJURIES', 'FATALITIES', 'INCDATE', 'INCDTTM',\n       'JUNCTIONTYPE', 'SDOT_COLCODE', 'SDOT_COLDESC', 'INATTENTIONIND',\n       'UNDERINFL', 'WEATHER', 'ROADCOND', 'LIGHTCOND', 'PEDROWNOTGRNT',\n       'SDOTCOLNUM', 'SPEEDING', 'ST_COLCODE', 'ST_COLDESC', 'SEGLANEKEY',\n       'CROSSWALKKEY', 'HITPARKEDCAR'], dtype=object)"
                    },
                    "metadata": {}
                }
            ]
        },
        {
            "metadata": {},
            "cell_type": "code",
            "source": "df.dtypes.value_counts()",
            "execution_count": 11,
            "outputs": [
                {
                    "output_type": "execute_result",
                    "execution_count": 11,
                    "data": {
                        "text/plain": "object     23\nint64      12\nfloat64     5\ndtype: int64"
                    },
                    "metadata": {}
                }
            ]
        },
        {
            "metadata": {},
            "cell_type": "code",
            "source": "df.dtypes",
            "execution_count": 12,
            "outputs": [
                {
                    "output_type": "execute_result",
                    "execution_count": 12,
                    "data": {
                        "text/plain": "X                  float64\nY                  float64\nOBJECTID             int64\nINCKEY               int64\nCOLDETKEY            int64\nREPORTNO            object\nSTATUS              object\nADDRTYPE            object\nINTKEY             float64\nLOCATION            object\nEXCEPTRSNCODE       object\nEXCEPTRSNDESC       object\nSEVERITYCODE        object\nSEVERITYDESC        object\nCOLLISIONTYPE       object\nPERSONCOUNT          int64\nPEDCOUNT             int64\nPEDCYLCOUNT          int64\nVEHCOUNT             int64\nINJURIES             int64\nSERIOUSINJURIES      int64\nFATALITIES           int64\nINCDATE             object\nINCDTTM             object\nJUNCTIONTYPE        object\nSDOT_COLCODE       float64\nSDOT_COLDESC        object\nINATTENTIONIND      object\nUNDERINFL           object\nWEATHER             object\nROADCOND            object\nLIGHTCOND           object\nPEDROWNOTGRNT       object\nSDOTCOLNUM         float64\nSPEEDING            object\nST_COLCODE          object\nST_COLDESC          object\nSEGLANEKEY           int64\nCROSSWALKKEY         int64\nHITPARKEDCAR        object\ndtype: object"
                    },
                    "metadata": {}
                }
            ]
        },
        {
            "metadata": {},
            "cell_type": "code",
            "source": "",
            "execution_count": null,
            "outputs": []
        }
    ],
    "metadata": {
        "kernelspec": {
            "name": "python3",
            "display_name": "Python 3.6",
            "language": "python"
        },
        "language_info": {
            "name": "python",
            "version": "3.6.9",
            "mimetype": "text/x-python",
            "codemirror_mode": {
                "name": "ipython",
                "version": 3
            },
            "pygments_lexer": "ipython3",
            "nbconvert_exporter": "python",
            "file_extension": ".py"
        }
    },
    "nbformat": 4,
    "nbformat_minor": 1
}