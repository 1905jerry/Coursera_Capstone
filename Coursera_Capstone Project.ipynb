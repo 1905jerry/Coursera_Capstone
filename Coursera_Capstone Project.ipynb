{
    "cells": [
        {
            "metadata": {
                "collapsed": true
            },
            "cell_type": "markdown",
            "source": "This notebook will be used primarily for the Coursera-IBM Data Science Capstone Project.\n"
        },
        {
            "metadata": {},
            "cell_type": "code",
            "source": "import pandas as pd\nimport numpy as np\nimport csv\nimport matplotlib\nimport matplotlib.pyplot as plt\nimport seaborn as sns\nprint(\"Hello Capstone Project Course!\")",
            "execution_count": 45,
            "outputs": [
                {
                    "output_type": "stream",
                    "text": "Hello Capstone Project Course!\n",
                    "name": "stdout"
                }
            ]
        },
        {
            "metadata": {},
            "cell_type": "code",
            "source": "## Since the Seattle dataset is updated frequently, I have uploaded a copy of the dataset from September 17, 2020, in order to have a stable basis for analysis. \nimport types\nfrom botocore.client import Config\nimport ibm_boto3\n\ndef __iter__(self): return 0\n\n# @hidden_cell\n# The following code accesses a file in your IBM Cloud Object Storage. It includes your credentials.\n# You might want to remove those credentials before you share the notebook.\nCredentials removed. \n    (Bucket='machinelearningwithpythoncapstone-donotdelete-pr-xaydtjk8mqldvq',Key='Collisions .csv')['Body']\n# add missing __iter__ method, so pandas accepts body as file-like object\nif not hasattr(body, \"__iter__\"): body.__iter__ = types.MethodType( __iter__, body )\n\ndf = pd.read_csv(body)\n",
            "execution_count": 2,
            "outputs": []
        },
        {
            "metadata": {},
            "cell_type": "code",
            "source": "\n",
            "execution_count": null,
            "outputs": []
        },
        {
            "metadata": {},
            "cell_type": "code",
            "source": "# A cursory analysis of the data \ndf.head()",
            "execution_count": 3,
            "outputs": [
                {
                    "output_type": "execute_result",
                    "execution_count": 3,
                    "data": {
                        "text/plain": "            X          Y  OBJECTID  INCKEY  COLDETKEY   REPORTNO     STATUS  \\\n0 -122.320757  47.609408         1  328476     329976    EA08706    Matched   \n1 -122.319561  47.662221         2  328142     329642    EA06882    Matched   \n2 -122.327525  47.604393         3   20700      20700    1181833  Unmatched   \n3 -122.327525  47.708622         4  332126     333626  M16001640  Unmatched   \n4 -122.292120  47.559009         5  328238     329738    3857118  Unmatched   \n\n  ADDRTYPE  INTKEY                                           LOCATION  ...  \\\n0    Block     NaN    BROADWAY BETWEEN E COLUMBIA ST AND BOYLSTON AVE  ...   \n1    Block     NaN     8TH AVE NE BETWEEN NE 45TH E ST AND NE 47TH ST  ...   \n2    Block     NaN               JAMES ST BETWEEN 6TH AVE AND 7TH AVE  ...   \n3    Block     NaN  NE NORTHGATE WAY BETWEEN 1ST AVE NE AND NE NOR...  ...   \n4    Block     NaN  M L KING JR ER WAY S BETWEEN S ANGELINE ST AND...  ...   \n\n  ROADCOND                LIGHTCOND PEDROWNOTGRNT SDOTCOLNUM SPEEDING  \\\n0      Wet  Dark - Street Lights On           NaN        NaN      NaN   \n1      Dry                 Daylight           NaN        NaN      NaN   \n2      NaN                      NaN           NaN  4030032.0      NaN   \n3      NaN                      NaN           NaN        NaN      NaN   \n4      NaN                      NaN           NaN        NaN      NaN   \n\n   ST_COLCODE                                         ST_COLDESC  SEGLANEKEY  \\\n0          11  From same direction - both going straight - bo...           0   \n1          32                             One parked--one moving           0   \n2         NaN                                                NaN           0   \n3                                                            NaN           0   \n4                                                            NaN           0   \n\n   CROSSWALKKEY  HITPARKEDCAR  \n0             0             N  \n1             0             Y  \n2             0             N  \n3             0             N  \n4             0             N  \n\n[5 rows x 40 columns]",
                        "text/html": "<div>\n<style scoped>\n    .dataframe tbody tr th:only-of-type {\n        vertical-align: middle;\n    }\n\n    .dataframe tbody tr th {\n        vertical-align: top;\n    }\n\n    .dataframe thead th {\n        text-align: right;\n    }\n</style>\n<table border=\"1\" class=\"dataframe\">\n  <thead>\n    <tr style=\"text-align: right;\">\n      <th></th>\n      <th>X</th>\n      <th>Y</th>\n      <th>OBJECTID</th>\n      <th>INCKEY</th>\n      <th>COLDETKEY</th>\n      <th>REPORTNO</th>\n      <th>STATUS</th>\n      <th>ADDRTYPE</th>\n      <th>INTKEY</th>\n      <th>LOCATION</th>\n      <th>...</th>\n      <th>ROADCOND</th>\n      <th>LIGHTCOND</th>\n      <th>PEDROWNOTGRNT</th>\n      <th>SDOTCOLNUM</th>\n      <th>SPEEDING</th>\n      <th>ST_COLCODE</th>\n      <th>ST_COLDESC</th>\n      <th>SEGLANEKEY</th>\n      <th>CROSSWALKKEY</th>\n      <th>HITPARKEDCAR</th>\n    </tr>\n  </thead>\n  <tbody>\n    <tr>\n      <th>0</th>\n      <td>-122.320757</td>\n      <td>47.609408</td>\n      <td>1</td>\n      <td>328476</td>\n      <td>329976</td>\n      <td>EA08706</td>\n      <td>Matched</td>\n      <td>Block</td>\n      <td>NaN</td>\n      <td>BROADWAY BETWEEN E COLUMBIA ST AND BOYLSTON AVE</td>\n      <td>...</td>\n      <td>Wet</td>\n      <td>Dark - Street Lights On</td>\n      <td>NaN</td>\n      <td>NaN</td>\n      <td>NaN</td>\n      <td>11</td>\n      <td>From same direction - both going straight - bo...</td>\n      <td>0</td>\n      <td>0</td>\n      <td>N</td>\n    </tr>\n    <tr>\n      <th>1</th>\n      <td>-122.319561</td>\n      <td>47.662221</td>\n      <td>2</td>\n      <td>328142</td>\n      <td>329642</td>\n      <td>EA06882</td>\n      <td>Matched</td>\n      <td>Block</td>\n      <td>NaN</td>\n      <td>8TH AVE NE BETWEEN NE 45TH E ST AND NE 47TH ST</td>\n      <td>...</td>\n      <td>Dry</td>\n      <td>Daylight</td>\n      <td>NaN</td>\n      <td>NaN</td>\n      <td>NaN</td>\n      <td>32</td>\n      <td>One parked--one moving</td>\n      <td>0</td>\n      <td>0</td>\n      <td>Y</td>\n    </tr>\n    <tr>\n      <th>2</th>\n      <td>-122.327525</td>\n      <td>47.604393</td>\n      <td>3</td>\n      <td>20700</td>\n      <td>20700</td>\n      <td>1181833</td>\n      <td>Unmatched</td>\n      <td>Block</td>\n      <td>NaN</td>\n      <td>JAMES ST BETWEEN 6TH AVE AND 7TH AVE</td>\n      <td>...</td>\n      <td>NaN</td>\n      <td>NaN</td>\n      <td>NaN</td>\n      <td>4030032.0</td>\n      <td>NaN</td>\n      <td>NaN</td>\n      <td>NaN</td>\n      <td>0</td>\n      <td>0</td>\n      <td>N</td>\n    </tr>\n    <tr>\n      <th>3</th>\n      <td>-122.327525</td>\n      <td>47.708622</td>\n      <td>4</td>\n      <td>332126</td>\n      <td>333626</td>\n      <td>M16001640</td>\n      <td>Unmatched</td>\n      <td>Block</td>\n      <td>NaN</td>\n      <td>NE NORTHGATE WAY BETWEEN 1ST AVE NE AND NE NOR...</td>\n      <td>...</td>\n      <td>NaN</td>\n      <td>NaN</td>\n      <td>NaN</td>\n      <td>NaN</td>\n      <td>NaN</td>\n      <td></td>\n      <td>NaN</td>\n      <td>0</td>\n      <td>0</td>\n      <td>N</td>\n    </tr>\n    <tr>\n      <th>4</th>\n      <td>-122.292120</td>\n      <td>47.559009</td>\n      <td>5</td>\n      <td>328238</td>\n      <td>329738</td>\n      <td>3857118</td>\n      <td>Unmatched</td>\n      <td>Block</td>\n      <td>NaN</td>\n      <td>M L KING JR ER WAY S BETWEEN S ANGELINE ST AND...</td>\n      <td>...</td>\n      <td>NaN</td>\n      <td>NaN</td>\n      <td>NaN</td>\n      <td>NaN</td>\n      <td>NaN</td>\n      <td></td>\n      <td>NaN</td>\n      <td>0</td>\n      <td>0</td>\n      <td>N</td>\n    </tr>\n  </tbody>\n</table>\n<p>5 rows \u00d7 40 columns</p>\n</div>"
                    },
                    "metadata": {}
                }
            ]
        },
        {
            "metadata": {},
            "cell_type": "code",
            "source": "df.shape",
            "execution_count": 4,
            "outputs": [
                {
                    "output_type": "execute_result",
                    "execution_count": 4,
                    "data": {
                        "text/plain": "(221389, 40)"
                    },
                    "metadata": {}
                }
            ]
        },
        {
            "metadata": {},
            "cell_type": "code",
            "source": "df.columns.values",
            "execution_count": 42,
            "outputs": [
                {
                    "output_type": "execute_result",
                    "execution_count": 42,
                    "data": {
                        "text/plain": "array(['X', 'Y', 'OBJECTID', 'INCKEY', 'COLDETKEY', 'REPORTNO', 'STATUS',\n       'ADDRTYPE', 'INTKEY', 'LOCATION', 'EXCEPTRSNCODE', 'EXCEPTRSNDESC',\n       'SEVERITYCODE', 'SEVERITYDESC', 'COLLISIONTYPE', 'PERSONCOUNT',\n       'PEDCOUNT', 'PEDCYLCOUNT', 'VEHCOUNT', 'INJURIES',\n       'SERIOUSINJURIES', 'FATALITIES', 'INCDATE', 'INCDTTM',\n       'JUNCTIONTYPE', 'SDOT_COLCODE', 'SDOT_COLDESC', 'INATTENTIONIND',\n       'UNDERINFL', 'WEATHER', 'ROADCOND', 'LIGHTCOND', 'PEDROWNOTGRNT',\n       'SDOTCOLNUM', 'SPEEDING', 'ST_COLCODE', 'ST_COLDESC', 'SEGLANEKEY',\n       'CROSSWALKKEY', 'HITPARKEDCAR'], dtype=object)"
                    },
                    "metadata": {}
                }
            ]
        },
        {
            "metadata": {},
            "cell_type": "code",
            "source": "df.dtypes.value_counts()",
            "execution_count": 43,
            "outputs": [
                {
                    "output_type": "execute_result",
                    "execution_count": 43,
                    "data": {
                        "text/plain": "object     23\nint64      12\nfloat64     5\ndtype: int64"
                    },
                    "metadata": {}
                }
            ]
        },
        {
            "metadata": {},
            "cell_type": "code",
            "source": "df.dtypes",
            "execution_count": 44,
            "outputs": [
                {
                    "output_type": "execute_result",
                    "execution_count": 44,
                    "data": {
                        "text/plain": "X                  float64\nY                  float64\nOBJECTID             int64\nINCKEY               int64\nCOLDETKEY            int64\nREPORTNO            object\nSTATUS              object\nADDRTYPE            object\nINTKEY             float64\nLOCATION            object\nEXCEPTRSNCODE       object\nEXCEPTRSNDESC       object\nSEVERITYCODE        object\nSEVERITYDESC        object\nCOLLISIONTYPE       object\nPERSONCOUNT          int64\nPEDCOUNT             int64\nPEDCYLCOUNT          int64\nVEHCOUNT             int64\nINJURIES             int64\nSERIOUSINJURIES      int64\nFATALITIES           int64\nINCDATE             object\nINCDTTM             object\nJUNCTIONTYPE        object\nSDOT_COLCODE       float64\nSDOT_COLDESC        object\nINATTENTIONIND      object\nUNDERINFL           object\nWEATHER             object\nROADCOND            object\nLIGHTCOND           object\nPEDROWNOTGRNT       object\nSDOTCOLNUM         float64\nSPEEDING            object\nST_COLCODE          object\nST_COLDESC          object\nSEGLANEKEY           int64\nCROSSWALKKEY         int64\nHITPARKEDCAR        object\ndtype: object"
                    },
                    "metadata": {}
                }
            ]
        },
        {
            "metadata": {},
            "cell_type": "code",
            "source": "df.info()",
            "execution_count": 45,
            "outputs": [
                {
                    "output_type": "stream",
                    "text": "<class 'pandas.core.frame.DataFrame'>\nRangeIndex: 221389 entries, 0 to 221388\nData columns (total 40 columns):\nX                  213918 non-null float64\nY                  213918 non-null float64\nOBJECTID           221389 non-null int64\nINCKEY             221389 non-null int64\nCOLDETKEY          221389 non-null int64\nREPORTNO           221389 non-null object\nSTATUS             221389 non-null object\nADDRTYPE           217677 non-null object\nINTKEY             71884 non-null float64\nLOCATION           216801 non-null object\nEXCEPTRSNCODE      100986 non-null object\nEXCEPTRSNDESC      11779 non-null object\nSEVERITYCODE       221388 non-null object\nSEVERITYDESC       221389 non-null object\nCOLLISIONTYPE      195159 non-null object\nPERSONCOUNT        221389 non-null int64\nPEDCOUNT           221389 non-null int64\nPEDCYLCOUNT        221389 non-null int64\nVEHCOUNT           221389 non-null int64\nINJURIES           221389 non-null int64\nSERIOUSINJURIES    221389 non-null int64\nFATALITIES         221389 non-null int64\nINCDATE            221389 non-null object\nINCDTTM            221389 non-null object\nJUNCTIONTYPE       209417 non-null object\nSDOT_COLCODE       221388 non-null float64\nSDOT_COLDESC       221388 non-null object\nINATTENTIONIND     30188 non-null object\nUNDERINFL          195179 non-null object\nWEATHER            194969 non-null object\nROADCOND           195050 non-null object\nLIGHTCOND          194880 non-null object\nPEDROWNOTGRNT      5192 non-null object\nSDOTCOLNUM         127205 non-null float64\nSPEEDING           9928 non-null object\nST_COLCODE         211976 non-null object\nST_COLDESC         195159 non-null object\nSEGLANEKEY         221389 non-null int64\nCROSSWALKKEY       221389 non-null int64\nHITPARKEDCAR       221389 non-null object\ndtypes: float64(5), int64(12), object(23)\nmemory usage: 67.6+ MB\n",
                    "name": "stdout"
                }
            ]
        },
        {
            "metadata": {},
            "cell_type": "code",
            "source": "",
            "execution_count": null,
            "outputs": []
        },
        {
            "metadata": {},
            "cell_type": "code",
            "source": "### There are several attributes which have no value for further analysis, let's drop them.\ndf1 = df.drop(['OBJECTID', 'INCKEY', 'COLDETKEY', 'REPORTNO', 'STATUS', 'INTKEY', 'SDOT_COLCODE', 'SDOT_COLDESC', 'ST_COLCODE', 'ST_COLDESC', 'SEGLANEKEY', 'CROSSWALKKEY', 'SDOTCOLNUM'],axis=1)\n\n",
            "execution_count": 5,
            "outputs": []
        },
        {
            "metadata": {},
            "cell_type": "code",
            "source": "df1.shape",
            "execution_count": 6,
            "outputs": [
                {
                    "output_type": "execute_result",
                    "execution_count": 6,
                    "data": {
                        "text/plain": "(221389, 27)"
                    },
                    "metadata": {}
                }
            ]
        },
        {
            "metadata": {},
            "cell_type": "code",
            "source": "### Overlay to original df name\ndf = df1",
            "execution_count": 7,
            "outputs": []
        },
        {
            "metadata": {},
            "cell_type": "code",
            "source": "### Confirm original df, updated shape\ndf.shape",
            "execution_count": 8,
            "outputs": [
                {
                    "output_type": "execute_result",
                    "execution_count": 8,
                    "data": {
                        "text/plain": "(221389, 27)"
                    },
                    "metadata": {}
                }
            ]
        },
        {
            "metadata": {},
            "cell_type": "code",
            "source": "df.info()",
            "execution_count": 9,
            "outputs": [
                {
                    "output_type": "stream",
                    "text": "<class 'pandas.core.frame.DataFrame'>\nRangeIndex: 221389 entries, 0 to 221388\nData columns (total 27 columns):\nX                  213918 non-null float64\nY                  213918 non-null float64\nADDRTYPE           217677 non-null object\nLOCATION           216801 non-null object\nEXCEPTRSNCODE      100986 non-null object\nEXCEPTRSNDESC      11779 non-null object\nSEVERITYCODE       221388 non-null object\nSEVERITYDESC       221389 non-null object\nCOLLISIONTYPE      195159 non-null object\nPERSONCOUNT        221389 non-null int64\nPEDCOUNT           221389 non-null int64\nPEDCYLCOUNT        221389 non-null int64\nVEHCOUNT           221389 non-null int64\nINJURIES           221389 non-null int64\nSERIOUSINJURIES    221389 non-null int64\nFATALITIES         221389 non-null int64\nINCDATE            221389 non-null object\nINCDTTM            221389 non-null object\nJUNCTIONTYPE       209417 non-null object\nINATTENTIONIND     30188 non-null object\nUNDERINFL          195179 non-null object\nWEATHER            194969 non-null object\nROADCOND           195050 non-null object\nLIGHTCOND          194880 non-null object\nPEDROWNOTGRNT      5192 non-null object\nSPEEDING           9928 non-null object\nHITPARKEDCAR       221389 non-null object\ndtypes: float64(2), int64(7), object(18)\nmemory usage: 45.6+ MB\n",
                    "name": "stdout"
                }
            ]
        },
        {
            "metadata": {},
            "cell_type": "markdown",
            "source": "Begin data evaluation and cleansing "
        },
        {
            "metadata": {},
            "cell_type": "markdown",
            "source": "Severity Code "
        },
        {
            "metadata": {},
            "cell_type": "code",
            "source": "df[\"SEVERITYCODE\"].value_counts(normalize=True)*100",
            "execution_count": 10,
            "outputs": [
                {
                    "output_type": "execute_result",
                    "execution_count": 10,
                    "data": {
                        "text/plain": "1     62.151517\n2     26.535765\n0      9.753916\n2b     1.401160\n3      0.157642\nName: SEVERITYCODE, dtype: float64"
                    },
                    "metadata": {}
                }
            ]
        },
        {
            "metadata": {},
            "cell_type": "code",
            "source": "df[\"SEVERITYCODE\"].unique()",
            "execution_count": 11,
            "outputs": [
                {
                    "output_type": "execute_result",
                    "execution_count": 11,
                    "data": {
                        "text/plain": "array(['1', '0', '2', '2b', '3', nan], dtype=object)"
                    },
                    "metadata": {}
                }
            ]
        },
        {
            "metadata": {},
            "cell_type": "code",
            "source": "df[\"SEVERITYCODE\"].value_counts()",
            "execution_count": 12,
            "outputs": [
                {
                    "output_type": "execute_result",
                    "execution_count": 12,
                    "data": {
                        "text/plain": "1     137596\n2      58747\n0      21594\n2b      3102\n3        349\nName: SEVERITYCODE, dtype: int64"
                    },
                    "metadata": {}
                }
            ]
        },
        {
            "metadata": {},
            "cell_type": "code",
            "source": "dftemp = df[[\"SEVERITYCODE\", \"SEVERITYDESC\"]]\ndftemp[~(dftemp.duplicated())].style.hide_index()",
            "execution_count": 13,
            "outputs": [
                {
                    "output_type": "execute_result",
                    "execution_count": 13,
                    "data": {
                        "text/plain": "<pandas.io.formats.style.Styler at 0x7f939716a470>",
                        "text/html": "<style  type=\"text/css\" >\n</style><table id=\"T_89e4665c_fe6b_11ea_ab37_27c2c61d1bca\" ><thead>    <tr>        <th class=\"col_heading level0 col0\" >SEVERITYCODE</th>        <th class=\"col_heading level0 col1\" >SEVERITYDESC</th>    </tr></thead><tbody>\n                <tr>\n                                <td id=\"T_89e4665c_fe6b_11ea_ab37_27c2c61d1bcarow0_col0\" class=\"data row0 col0\" >1</td>\n                        <td id=\"T_89e4665c_fe6b_11ea_ab37_27c2c61d1bcarow0_col1\" class=\"data row0 col1\" >Property Damage Only Collision</td>\n            </tr>\n            <tr>\n                                <td id=\"T_89e4665c_fe6b_11ea_ab37_27c2c61d1bcarow1_col0\" class=\"data row1 col0\" >0</td>\n                        <td id=\"T_89e4665c_fe6b_11ea_ab37_27c2c61d1bcarow1_col1\" class=\"data row1 col1\" >Unknown</td>\n            </tr>\n            <tr>\n                                <td id=\"T_89e4665c_fe6b_11ea_ab37_27c2c61d1bcarow2_col0\" class=\"data row2 col0\" >2</td>\n                        <td id=\"T_89e4665c_fe6b_11ea_ab37_27c2c61d1bcarow2_col1\" class=\"data row2 col1\" >Injury Collision</td>\n            </tr>\n            <tr>\n                                <td id=\"T_89e4665c_fe6b_11ea_ab37_27c2c61d1bcarow3_col0\" class=\"data row3 col0\" >2b</td>\n                        <td id=\"T_89e4665c_fe6b_11ea_ab37_27c2c61d1bcarow3_col1\" class=\"data row3 col1\" >Serious Injury Collision</td>\n            </tr>\n            <tr>\n                                <td id=\"T_89e4665c_fe6b_11ea_ab37_27c2c61d1bcarow4_col0\" class=\"data row4 col0\" >3</td>\n                        <td id=\"T_89e4665c_fe6b_11ea_ab37_27c2c61d1bcarow4_col1\" class=\"data row4 col1\" >Fatality Collision</td>\n            </tr>\n            <tr>\n                                <td id=\"T_89e4665c_fe6b_11ea_ab37_27c2c61d1bcarow5_col0\" class=\"data row5 col0\" >nan</td>\n                        <td id=\"T_89e4665c_fe6b_11ea_ab37_27c2c61d1bcarow5_col1\" class=\"data row5 col1\" >Unknown</td>\n            </tr>\n    </tbody></table>"
                    },
                    "metadata": {}
                }
            ]
        },
        {
            "metadata": {},
            "cell_type": "code",
            "source": "### Replace nan SEVERITYCODEs with 0.\ndf[\"SEVERITYCODE\"].fillna('0', inplace=True)",
            "execution_count": 14,
            "outputs": []
        },
        {
            "metadata": {},
            "cell_type": "code",
            "source": "df[\"SEVERITYCODE\"].value_counts()",
            "execution_count": 15,
            "outputs": [
                {
                    "output_type": "execute_result",
                    "execution_count": 15,
                    "data": {
                        "text/plain": "1     137596\n2      58747\n0      21595\n2b      3102\n3        349\nName: SEVERITYCODE, dtype: int64"
                    },
                    "metadata": {}
                }
            ]
        },
        {
            "metadata": {},
            "cell_type": "markdown",
            "source": "SEVERITYCODE = 0 shows an increase of 1 because of the single nan value."
        },
        {
            "metadata": {},
            "cell_type": "code",
            "source": "dftemp = df[[\"SEVERITYCODE\", \"SEVERITYDESC\"]]\ndftemp[~(dftemp.duplicated())].style.hide_index()",
            "execution_count": 16,
            "outputs": [
                {
                    "output_type": "execute_result",
                    "execution_count": 16,
                    "data": {
                        "text/plain": "<pandas.io.formats.style.Styler at 0x7f939716a710>",
                        "text/html": "<style  type=\"text/css\" >\n</style><table id=\"T_58f528c8_fe6c_11ea_ab37_27c2c61d1bca\" ><thead>    <tr>        <th class=\"col_heading level0 col0\" >SEVERITYCODE</th>        <th class=\"col_heading level0 col1\" >SEVERITYDESC</th>    </tr></thead><tbody>\n                <tr>\n                                <td id=\"T_58f528c8_fe6c_11ea_ab37_27c2c61d1bcarow0_col0\" class=\"data row0 col0\" >1</td>\n                        <td id=\"T_58f528c8_fe6c_11ea_ab37_27c2c61d1bcarow0_col1\" class=\"data row0 col1\" >Property Damage Only Collision</td>\n            </tr>\n            <tr>\n                                <td id=\"T_58f528c8_fe6c_11ea_ab37_27c2c61d1bcarow1_col0\" class=\"data row1 col0\" >0</td>\n                        <td id=\"T_58f528c8_fe6c_11ea_ab37_27c2c61d1bcarow1_col1\" class=\"data row1 col1\" >Unknown</td>\n            </tr>\n            <tr>\n                                <td id=\"T_58f528c8_fe6c_11ea_ab37_27c2c61d1bcarow2_col0\" class=\"data row2 col0\" >2</td>\n                        <td id=\"T_58f528c8_fe6c_11ea_ab37_27c2c61d1bcarow2_col1\" class=\"data row2 col1\" >Injury Collision</td>\n            </tr>\n            <tr>\n                                <td id=\"T_58f528c8_fe6c_11ea_ab37_27c2c61d1bcarow3_col0\" class=\"data row3 col0\" >2b</td>\n                        <td id=\"T_58f528c8_fe6c_11ea_ab37_27c2c61d1bcarow3_col1\" class=\"data row3 col1\" >Serious Injury Collision</td>\n            </tr>\n            <tr>\n                                <td id=\"T_58f528c8_fe6c_11ea_ab37_27c2c61d1bcarow4_col0\" class=\"data row4 col0\" >3</td>\n                        <td id=\"T_58f528c8_fe6c_11ea_ab37_27c2c61d1bcarow4_col1\" class=\"data row4 col1\" >Fatality Collision</td>\n            </tr>\n    </tbody></table>"
                    },
                    "metadata": {}
                }
            ]
        },
        {
            "metadata": {},
            "cell_type": "markdown",
            "source": "Cases where SEVERITYCODE = 0 (Unknown) have no value in predicting our target variable of SEVERITYCODE. Let's retrieve indexes for all SEVERITYCODE == 0, and use them to delete the related rows. "
        },
        {
            "metadata": {},
            "cell_type": "code",
            "source": "### Retrieve SEVERITYCODE indices\nindexNames = df[df['SEVERITYCODE'] == \"0\"].index",
            "execution_count": 36,
            "outputs": []
        },
        {
            "metadata": {},
            "cell_type": "code",
            "source": "### Use indices to drop SEVERITYCODE == 0. \ndf.drop(indexNames, inplace=True)\n",
            "execution_count": 37,
            "outputs": []
        },
        {
            "metadata": {},
            "cell_type": "code",
            "source": "df.shape",
            "execution_count": 38,
            "outputs": [
                {
                    "output_type": "execute_result",
                    "execution_count": 38,
                    "data": {
                        "text/plain": "(199794, 27)"
                    },
                    "metadata": {}
                }
            ]
        },
        {
            "metadata": {},
            "cell_type": "code",
            "source": "df[\"SEVERITYCODE\"].value_counts()",
            "execution_count": 39,
            "outputs": [
                {
                    "output_type": "execute_result",
                    "execution_count": 39,
                    "data": {
                        "text/plain": "1     137596\n2      58747\n2b      3102\n3        349\nName: SEVERITYCODE, dtype: int64"
                    },
                    "metadata": {}
                }
            ]
        },
        {
            "metadata": {},
            "cell_type": "markdown",
            "source": "Let's realign SEVERITYCODE values 3 --> 4, and 2b --> 4."
        },
        {
            "metadata": {},
            "cell_type": "code",
            "source": "df['SEVERITYCODE'].replace('3', '4', inplace=True)\ndf['SEVERITYCODE'].replace('2b', '3', inplace=True)\n### df['SEVERITYCODE'] = df['SEVERITYCODE'].astype('int64')",
            "execution_count": 40,
            "outputs": []
        },
        {
            "metadata": {},
            "cell_type": "code",
            "source": "df[\"SEVERITYCODE\"].value_counts()",
            "execution_count": 41,
            "outputs": [
                {
                    "output_type": "execute_result",
                    "execution_count": 41,
                    "data": {
                        "text/plain": "1    137596\n2     58747\n3      3102\n4       349\nName: SEVERITYCODE, dtype: int64"
                    },
                    "metadata": {}
                }
            ]
        },
        {
            "metadata": {},
            "cell_type": "code",
            "source": "plt.title('Accident Count By Severity')\n###ax.set(xlabel='Severity Code', ylabel='Accident Count')\nsns.countplot(df['SEVERITYCODE'], data=df)",
            "execution_count": 48,
            "outputs": [
                {
                    "output_type": "execute_result",
                    "execution_count": 48,
                    "data": {
                        "text/plain": "<matplotlib.axes._subplots.AxesSubplot at 0x7f9363070dd8>"
                    },
                    "metadata": {}
                },
                {
                    "output_type": "display_data",
                    "data": {
                        "text/plain": "<Figure size 432x288 with 1 Axes>",
                        "image/png": "[encoded data removed]"
                    },
                    "metadata": {
                        "needs_background": "light"
                    }
                }
            ]
        },
        {
            "metadata": {},
            "cell_type": "markdown",
            "source": "Handle blank ADDRTYPE rows"
        },
        {
            "metadata": {},
            "cell_type": "code",
            "source": "df[\"ADDRTYPE\"].value_counts()",
            "execution_count": 49,
            "outputs": [
                {
                    "output_type": "execute_result",
                    "execution_count": 49,
                    "data": {
                        "text/plain": "Block           129694\nIntersection     67405\nAlley              764\nName: ADDRTYPE, dtype: int64"
                    },
                    "metadata": {}
                }
            ]
        },
        {
            "metadata": {},
            "cell_type": "code",
            "source": "df['ADDRTYPE'].fillna('Unknown', inplace=True)",
            "execution_count": 50,
            "outputs": []
        },
        {
            "metadata": {},
            "cell_type": "code",
            "source": "df[\"ADDRTYPE\"].value_counts()",
            "execution_count": 52,
            "outputs": [
                {
                    "output_type": "execute_result",
                    "execution_count": 52,
                    "data": {
                        "text/plain": "Block           129694\nIntersection     67405\nUnknown           1931\nAlley              764\nName: ADDRTYPE, dtype: int64"
                    },
                    "metadata": {}
                }
            ]
        },
        {
            "metadata": {},
            "cell_type": "code",
            "source": "plt.title('Address Type Summary')\nsns.countplot(df['ADDRTYPE'], data=df)",
            "execution_count": 53,
            "outputs": [
                {
                    "output_type": "execute_result",
                    "execution_count": 53,
                    "data": {
                        "text/plain": "<matplotlib.axes._subplots.AxesSubplot at 0x7f936303ebe0>"
                    },
                    "metadata": {}
                },
                {
                    "output_type": "display_data",
                    "data": {
                        "text/plain": "<Figure size 432x288 with 1 Axes>",
                        "image/png": "[encoded data removed]"
                    },
                    "metadata": {
                        "needs_background": "light"
                    }
                }
            ]
        },
        {
            "metadata": {},
            "cell_type": "markdown",
            "source": "Extract month and year from INCDATE"
        },
        {
            "metadata": {},
            "cell_type": "code",
            "source": "df.shape",
            "execution_count": 54,
            "outputs": [
                {
                    "output_type": "execute_result",
                    "execution_count": 54,
                    "data": {
                        "text/plain": "(199794, 27)"
                    },
                    "metadata": {}
                }
            ]
        },
        {
            "metadata": {},
            "cell_type": "code",
            "source": "## Save the intermediate file to CSV\nfilename = \"Collisions Without Severity Equals 0.csv\"\ndf.to_csv(filename, index=False)",
            "execution_count": 58,
            "outputs": []
        },
        {
            "metadata": {},
            "cell_type": "markdown",
            "source": "Convert INCDATE and INCDTTM to datetime format"
        },
        {
            "metadata": {},
            "cell_type": "code",
            "source": "df['INCDATE'] = pd.to_datetime(df['INCDATE'])",
            "execution_count": 60,
            "outputs": []
        },
        {
            "metadata": {},
            "cell_type": "code",
            "source": "df['INCDTTM'] = pd.to_datetime(df['INCDTTM'])",
            "execution_count": 61,
            "outputs": []
        },
        {
            "metadata": {},
            "cell_type": "code",
            "source": "df.info()",
            "execution_count": 66,
            "outputs": [
                {
                    "output_type": "stream",
                    "text": "<class 'pandas.core.frame.DataFrame'>\nInt64Index: 199794 entries, 0 to 221388\nData columns (total 27 columns):\nX                  194389 non-null float64\nY                  194389 non-null float64\nADDRTYPE           199794 non-null object\nLOCATION           197099 non-null object\nEXCEPTRSNCODE      88165 non-null object\nEXCEPTRSNDESC      5684 non-null object\nSEVERITYCODE       199794 non-null int64\nSEVERITYDESC       199794 non-null object\nCOLLISIONTYPE      195157 non-null object\nPERSONCOUNT        199794 non-null int64\nPEDCOUNT           199794 non-null int64\nPEDCYLCOUNT        199794 non-null int64\nVEHCOUNT           199794 non-null int64\nINJURIES           199794 non-null int64\nSERIOUSINJURIES    199794 non-null int64\nFATALITIES         199794 non-null int64\nINCDATE            199794 non-null datetime64[ns, UTC]\nINCDTTM            199794 non-null datetime64[ns]\nJUNCTIONTYPE       193413 non-null object\nINATTENTIONIND     30188 non-null object\nUNDERINFL          195177 non-null object\nWEATHER            194966 non-null object\nROADCOND           195047 non-null object\nLIGHTCOND          194877 non-null object\nPEDROWNOTGRNT      5191 non-null object\nSPEEDING           9927 non-null object\nHITPARKEDCAR       199794 non-null object\ndtypes: datetime64[ns, UTC](1), datetime64[ns](1), float64(2), int64(8), object(15)\nmemory usage: 47.7+ MB\n",
                    "name": "stdout"
                }
            ]
        },
        {
            "metadata": {},
            "cell_type": "code",
            "source": "",
            "execution_count": null,
            "outputs": []
        }
    ],
    "metadata": {
        "kernelspec": {
            "name": "python3",
            "display_name": "Python 3.6",
            "language": "python"
        },
        "language_info": {
            "name": "python",
            "version": "3.6.9",
            "mimetype": "text/x-python",
            "codemirror_mode": {
                "name": "ipython",
                "version": 3
            },
            "pygments_lexer": "ipython3",
            "nbconvert_exporter": "python",
            "file_extension": ".py"
        }
    },
    "nbformat": 4,
    "nbformat_minor": 1
}